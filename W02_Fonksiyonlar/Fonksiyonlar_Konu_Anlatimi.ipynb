{
 "cells": [
  {
   "cell_type": "markdown",
   "metadata": {},
   "source": [
    "# Fonksiyon Tanımı\n",
    "\n",
    "Kodlarımızı tekrar organize etmek için fonksiyonları oluşturuyoruz. Özel işlemlerimizi fonksiyonlar oluşturarak yapıyoruz. Birbirini tekrarlayan işleri sürekli olarak tekrar tekrar yazmak yerine fonksiyon içerisinde oluşturup o fonksiyonu işimize yaradığı zaman çağırarak aynı işlemi tekar tekrar yapıyoruz."
   ]
  },
  {
   "cell_type": "markdown",
   "metadata": {},
   "source": [
    "Fonksiyona girişte ana kelimeler\n",
    "\n",
    "- def --> Fonsiyonu yazmaya başlarken kullanılır.\n",
    "- def --> defination' un kısaltmasıdır. Tanımlama anlamına gelir.\n",
    "- parametre --> Fonksiyonu çağırdığın zaman belirsiz değişkenin yerine gelecek sayıyı temsil eden yapıdır.\n",
    "- return --> Fonksiyonun sonuna ulaşıldığında hangi sabit değeri sonuç olarak tutması gerekiyor. Bunu belirleyen bir yapıdır."
   ]
  },
  {
   "cell_type": "code",
   "execution_count": 4,
   "metadata": {},
   "outputs": [],
   "source": [
    "# Herhangi bir sayıya 3 ekleyen bir fonksiyon\n",
    "\n",
    "def uc_ekle(herahangi_bir_sayi:int):\n",
    "    \"\"\"\n",
    "    Hint:\n",
    "    Bu fonksiyon herhangi bir sayıya 3 ekleme işllemi yapar.\n",
    "    Parametre:\n",
    "        herahangi_bir_sayi -> 3 eklenecek sayıyı temsil eder.\n",
    "    Return:\n",
    "        Bu fonksiyon herhangi bir sayıya 3 eklenmiş sayıyı return eder.\n",
    "    \"\"\"\n",
    "    sonuc = herahangi_bir_sayi + 3\n",
    "    return sonuc\n"
   ]
  },
  {
   "cell_type": "code",
   "execution_count": 3,
   "metadata": {},
   "outputs": [
    {
     "data": {
      "text/plain": [
       "function"
      ]
     },
     "execution_count": 3,
     "metadata": {},
     "output_type": "execute_result"
    }
   ],
   "source": [
    "type(uc_ekle)"
   ]
  },
  {
   "cell_type": "markdown",
   "metadata": {},
   "source": [
    "# Fonksiyonu Çağırma\n",
    "\n",
    "Fonksiyonu çağırırken ilk olarak fonksiyonu tanımladığımız zaman fonksiyon ismine ne verdiysek onunla çağırma yapıyoruz. Daha sonra parantez açıp parantezin içerisine fonksiyon tanımlarken parametre olarak ne versiysek o parametreye karşılık gelecek bir değer giriyoruz. Bu değere Python' da Argüman denir. Bazı yerlerde args olarak görebilirsiniz."
   ]
  },
  {
   "cell_type": "code",
   "execution_count": 7,
   "metadata": {},
   "outputs": [
    {
     "name": "stdout",
     "output_type": "stream",
     "text": [
      "11\n"
     ]
    }
   ],
   "source": [
    "toplama1 = uc_ekle(herahangi_bir_sayi=8) # Buradaki 8 herhangi_bir_sayi parametresinin yerine bir argümandır.\n",
    "print(toplama1)"
   ]
  },
  {
   "cell_type": "code",
   "execution_count": 6,
   "metadata": {},
   "outputs": [
    {
     "name": "stdout",
     "output_type": "stream",
     "text": [
      "23\n"
     ]
    }
   ],
   "source": [
    "toplama2 =uc_ekle(herahangi_bir_sayi=20)\n",
    "print(toplama2)"
   ]
  },
  {
   "cell_type": "markdown",
   "metadata": {},
   "source": [
    "# Neden Return Kullanıyoruz?"
   ]
  },
  {
   "cell_type": "code",
   "execution_count": 19,
   "metadata": {},
   "outputs": [],
   "source": [
    "#Return olmadan fonksiyon kullanımı \n",
    "def topla(sayi1: int, sayi2: int):\n",
    "    sonuc = sayi1 + sayi2\n",
    "    print(sonuc)\n",
    "\n",
    "def cikar(sayi1: int, sayi2: int):\n",
    "    sonuc = sayi1 - sayi2\n",
    "    print(sonuc)"
   ]
  },
  {
   "cell_type": "code",
   "execution_count": 20,
   "metadata": {},
   "outputs": [
    {
     "name": "stdout",
     "output_type": "stream",
     "text": [
      "15\n",
      "None\n"
     ]
    },
    {
     "ename": "TypeError",
     "evalue": "unsupported operand type(s) for -: 'NoneType' and 'int'",
     "output_type": "error",
     "traceback": [
      "\u001b[0;31m---------------------------------------------------------------------------\u001b[0m",
      "\u001b[0;31mTypeError\u001b[0m                                 Traceback (most recent call last)",
      "Cell \u001b[0;32mIn[20], line 4\u001b[0m\n\u001b[1;32m      1\u001b[0m toplama1 \u001b[38;5;241m=\u001b[39m topla(\u001b[38;5;241m10\u001b[39m, \u001b[38;5;241m5\u001b[39m)\n\u001b[1;32m      2\u001b[0m \u001b[38;5;28mprint\u001b[39m (toplama1)\n\u001b[0;32m----> 4\u001b[0m cıkarma1 \u001b[38;5;241m=\u001b[39m \u001b[43mcikar\u001b[49m\u001b[43m(\u001b[49m\u001b[43mtoplama1\u001b[49m\u001b[43m,\u001b[49m\u001b[43m \u001b[49m\u001b[38;5;241;43m5\u001b[39;49m\u001b[43m)\u001b[49m\n\u001b[1;32m      5\u001b[0m \u001b[38;5;28mprint\u001b[39m (cıkarma1)\n",
      "Cell \u001b[0;32mIn[19], line 7\u001b[0m, in \u001b[0;36mcikar\u001b[0;34m(sayi1, sayi2)\u001b[0m\n\u001b[1;32m      6\u001b[0m \u001b[38;5;28;01mdef\u001b[39;00m \u001b[38;5;21mcikar\u001b[39m(sayi1: \u001b[38;5;28mint\u001b[39m, sayi2: \u001b[38;5;28mint\u001b[39m):\n\u001b[0;32m----> 7\u001b[0m     sonuc \u001b[38;5;241m=\u001b[39m \u001b[43msayi1\u001b[49m\u001b[43m \u001b[49m\u001b[38;5;241;43m-\u001b[39;49m\u001b[43m \u001b[49m\u001b[43msayi2\u001b[49m\n\u001b[1;32m      8\u001b[0m     \u001b[38;5;28mprint\u001b[39m(sonuc)\n",
      "\u001b[0;31mTypeError\u001b[0m: unsupported operand type(s) for -: 'NoneType' and 'int'"
     ]
    }
   ],
   "source": [
    "toplama1 = topla(10, 5)\n",
    "print (toplama1)\n",
    "\n",
    "cıkarma1 = cikar(toplama1, 5)\n",
    "print (cıkarma1)"
   ]
  },
  {
   "cell_type": "code",
   "execution_count": 22,
   "metadata": {},
   "outputs": [],
   "source": [
    "#Return ile fonksiyon kullanımı\n",
    "def topla(sayi1: int, sayi2: int):\n",
    "    sonuc = sayi1 + sayi2\n",
    "    return sonuc\n",
    "\n",
    "def cikar(sayi1: int, sayi2: int):\n",
    "    sonuc = sayi1 - sayi2\n",
    "    return sonuc"
   ]
  },
  {
   "cell_type": "code",
   "execution_count": 23,
   "metadata": {},
   "outputs": [
    {
     "name": "stdout",
     "output_type": "stream",
     "text": [
      "15\n",
      "10\n"
     ]
    }
   ],
   "source": [
    "toplama1 = topla(10, 5)\n",
    "print (toplama1)\n",
    "\n",
    "cıkarma1 = cikar(toplama1, 5)\n",
    "print (cıkarma1)"
   ]
  },
  {
   "cell_type": "markdown",
   "metadata": {},
   "source": [
    "# Bilgilendirme Amaçlı Fonksiyon"
   ]
  },
  {
   "cell_type": "code",
   "execution_count": 16,
   "metadata": {},
   "outputs": [],
   "source": [
    "def calısan_bilgileri_gosterme(isim:str, soyisim: str, maas: float, unvan: str):\n",
    "    print(f\"\"\"\n",
    "          Çalışan İsmi     : {isim}\n",
    "          Çalışan Soyismi  : {soyisim}\n",
    "          Çalışan Maaşı    : {maas}\n",
    "          Çalışan Ünvanı   : {unvan}\"\"\")\n",
    "    return "
   ]
  },
  {
   "cell_type": "code",
   "execution_count": 17,
   "metadata": {},
   "outputs": [
    {
     "name": "stdout",
     "output_type": "stream",
     "text": [
      "\n",
      "          Çalışan İsmi     : Muhammed Ali\n",
      "          Çalışan Soyismi  : Kınalı\n",
      "          Çalışan Maaşı    : 5000.0\n",
      "          Çalışan Ünvanı   : Software Developer\n",
      "None\n"
     ]
    }
   ],
   "source": [
    "calisan1 = calısan_bilgileri_gosterme(\"Muhammed Ali\", \"Kınalı\", 5000.00, \"Software Developer\")\n",
    "print(calisan1)"
   ]
  },
  {
   "cell_type": "markdown",
   "metadata": {},
   "source": [
    "Bir şirketteki çalışanların maaşının vergisi çıkarıldıktan sonraki halini hesaplayalım\n",
    "\n",
    "Haftalık maaştan %10 vergi kesiliyor.(Diğer bir deyişle maaşın %10' u alınıyor).Bu arkadaşın saatte 15 dolar kazandığını düşünelim. Haftalık maaşını hesaplayalım."
   ]
  },
  {
   "cell_type": "code",
   "execution_count": 30,
   "metadata": {},
   "outputs": [],
   "source": [
    "\n",
    "def maas_hesaplama(haftalik_calisma_saati: int):\n",
    "    saatlik_para: int = 15\n",
    "    vergi_yuzdesi: int = 10\n",
    "\n",
    "    brut_maas = haftalik_calisma_saati * saatlik_para\n",
    "    net_maas = (brut_maas*(100-vergi_yuzdesi))/100\n",
    "\n",
    "    return net_maas\n"
   ]
  },
  {
   "cell_type": "code",
   "execution_count": 31,
   "metadata": {},
   "outputs": [
    {
     "name": "stdout",
     "output_type": "stream",
     "text": [
      "Son maaşınız: 202.5 dolar\n"
     ]
    }
   ],
   "source": [
    "son_maas = maas_hesaplama(haftalik_calisma_saati=15)\n",
    "print(f\"Son maaşınız: {son_maas} dolar\")"
   ]
  },
  {
   "cell_type": "markdown",
   "metadata": {},
   "source": [
    "# Fonksiyonu daha esnek hale getirmek\n",
    "\n",
    "Eğer fonksiyonun içeriğinde daha fazla parametre eklersen daha esnek bir fonksiyon yazmış olursun."
   ]
  },
  {
   "cell_type": "code",
   "execution_count": 34,
   "metadata": {},
   "outputs": [],
   "source": [
    "def maas_hesaplama(haftalik_calisma_saati: int, vergi_yuzdesi: int, saatlik_para: float):\n",
    "    brut_maas = haftalik_calisma_saati * saatlik_para\n",
    "    net_maas = (brut_maas*(100-vergi_yuzdesi))/100\n",
    "    return net_maas"
   ]
  },
  {
   "cell_type": "code",
   "execution_count": 35,
   "metadata": {},
   "outputs": [
    {
     "name": "stdout",
     "output_type": "stream",
     "text": [
      "Son maaşınız: 720.0 dolar\n"
     ]
    }
   ],
   "source": [
    "kıvanc =maas_hesaplama(45 , 20 , 20.0)\n",
    "print(f\"Son maaşınız: {kıvanc} dolar\")"
   ]
  },
  {
   "cell_type": "code",
   "execution_count": null,
   "metadata": {},
   "outputs": [],
   "source": []
  }
 ],
 "metadata": {
  "kernelspec": {
   "display_name": "Python 3",
   "language": "python",
   "name": "python3"
  },
  "language_info": {
   "codemirror_mode": {
    "name": "ipython",
    "version": 3
   },
   "file_extension": ".py",
   "mimetype": "text/x-python",
   "name": "python",
   "nbconvert_exporter": "python",
   "pygments_lexer": "ipython3",
   "version": "3.12.1"
  }
 },
 "nbformat": 4,
 "nbformat_minor": 2
}
