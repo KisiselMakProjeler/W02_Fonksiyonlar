{
 "cells": [
  {
   "cell_type": "markdown",
   "metadata": {},
   "source": [
    "### Soru 1\n",
    "\n",
    "float tipinde verilen sayıyı aşağıdaki örnekteki gibi yuvarlayın. "
   ]
  },
  {
   "cell_type": "code",
   "execution_count": 1,
   "metadata": {},
   "outputs": [
    {
     "name": "stdout",
     "output_type": "stream",
     "text": [
      "3.14\n"
     ]
    }
   ],
   "source": [
    "pi = 3.14159\n",
    "yuvarlanmis_pi = round(pi, 2)\n",
    "print(yuvarlanmis_pi)"
   ]
  },
  {
   "cell_type": "code",
   "execution_count": 4,
   "metadata": {},
   "outputs": [],
   "source": [
    "def iki_ondalikli_sayi_yuvarlama(yuvarlanacak_sayi:float):\n",
    "    \"\"\"Hint:\n",
    "    Noktadan sonra 2 basamak yuvarlayan fonksiyondur.\n",
    "\n",
    "    Parametre:\n",
    "    Yuvarlanacak sayıyı giriniz.\n",
    "    \"\"\"\n",
    "    yuvarlanmis_sayi = round(yuvarlanacak_sayi, 2)\n",
    "    return yuvarlanmis_sayi"
   ]
  },
  {
   "cell_type": "code",
   "execution_count": 5,
   "metadata": {},
   "outputs": [
    {
     "name": "stdout",
     "output_type": "stream",
     "text": [
      "5.89\n"
     ]
    }
   ],
   "source": [
    "yeni_sayi=iki_ondalikli_sayi_yuvarlama(5.889846513)\n",
    "print(yeni_sayi)"
   ]
  },
  {
   "cell_type": "code",
   "execution_count": 6,
   "metadata": {},
   "outputs": [],
   "source": [
    "from os import makedirs\n",
    "makedirs(\"Klasör1\")"
   ]
  },
  {
   "cell_type": "code",
   "execution_count": 7,
   "metadata": {},
   "outputs": [],
   "source": [
    "def klasorler_olustur(klasorler:list):\n",
    "    for klasor in klasorler:\n",
    "        makedirs(klasor)\n"
   ]
  },
  {
   "cell_type": "code",
   "execution_count": 9,
   "metadata": {},
   "outputs": [],
   "source": [
    "klasorler_olustur([\"Klasor1\", \"Klasor2\",\"Klasor3\",\"Klasor4\",\"Klasor5\",\"Klasor6\"])"
   ]
  },
  {
   "cell_type": "markdown",
   "metadata": {},
   "source": [
    "### Soru 2\n",
    "\n",
    "3 tane çocuk cadılar bayramında toplanılan şekeri kendi arasında paylaşıyor"
   ]
  },
  {
   "cell_type": "code",
   "execution_count": 13,
   "metadata": {},
   "outputs": [],
   "source": [
    "def kalan_seker(toplam_seker: int, cocuk_sayisi: int):\n",
    "    \"\"\"Hint:\n",
    "    Toplam şekerin kalan kısmının bulan fonksiyon.\n",
    "\n",
    "    Parametreler:\n",
    "    Toplam sekeri (integer): Toplam şeker sayısı\n",
    "    Cocuk sayısı (integer): Çocuk sayısı\n",
    "    \"\"\"\n",
    "    kalan_seker = toplam_seker % cocuk_sayisi\n",
    "    return kalan_seker"
   ]
  },
  {
   "cell_type": "code",
   "execution_count": 14,
   "metadata": {},
   "outputs": [
    {
     "name": "stdout",
     "output_type": "stream",
     "text": [
      "2\n"
     ]
    }
   ],
   "source": [
    "kalan_seker_sonuc = kalan_seker(17, 3)\n",
    "print(kalan_seker_sonuc)"
   ]
  },
  {
   "cell_type": "markdown",
   "metadata": {},
   "source": [
    "### Soru 3"
   ]
  },
  {
   "cell_type": "code",
   "execution_count": 15,
   "metadata": {},
   "outputs": [],
   "source": [
    "def evin_fiyatini_belirleme(yatak_odasi_sayisi:int, banyo_sayisi:int, bodrum_varmi:bool):\n",
    "    \"\"\"Hint:\n",
    "    Ev fiyatını belirleyen fonksiyon.\n",
    "\n",
    "    Parametreler:\n",
    "    Yatak odası sayısı (integer):\n",
    "    Banyo sayısı (integer):\n",
    "    Bodrum var mı (bool): Evde bodrum varsa True, yoksa False\"\"\"\n",
    "\n",
    "    normal_fiyat = 80000.0\n",
    "    banyo_fiyati = 10000.0\n",
    "    yatak_odasi_fiyati = 30000.0\n",
    "    bodrum_fiyati = 40000.0\n",
    "    if bodrum_varmi:\n",
    "        bodrum = 1\n",
    "    else:\n",
    "        bodrum = 0\n",
    "\n",
    "    fiyat = yatak_odasi_sayisi * yatak_odasi_fiyati + banyo_sayisi * banyo_fiyati+bodrum * bodrum_fiyati+80000\n",
    "\n",
    "    return fiyat"
   ]
  },
  {
   "cell_type": "code",
   "execution_count": 16,
   "metadata": {},
   "outputs": [
    {
     "name": "stdout",
     "output_type": "stream",
     "text": [
      "120000.0\n"
     ]
    }
   ],
   "source": [
    "evin_fiyati = evin_fiyatini_belirleme(1,1,False)\n",
    "print(evin_fiyati)"
   ]
  },
  {
   "cell_type": "markdown",
   "metadata": {},
   "source": [
    "### Soru 4\n"
   ]
  },
  {
   "cell_type": "code",
   "execution_count": 10,
   "metadata": {},
   "outputs": [],
   "source": [
    "def getCost(sqftWalls:int, sqftCeiling:int, sqftPerLtr:int, costPerLtr:float):\n",
    "    \"\"\"Hint:\n",
    "    Kullanıcının verdiği m²'lük kaplama ve litrelik fiyatına göre\n",
    "    toplam ücreti hesaplayan fonksiyon.\n",
    "\n",
    "    Parametreler:\n",
    "    sqftWalls (integer): Boyanacak duvarın toplam metrekaresini ifade eder.\n",
    "    sqftCeiling (integer): Boyanacak tavanın toplam metrekaresini ifade eder.\n",
    "    sqftPerLtr (integer): Her litre için kaç metrekare duvarın boyanacağını ifade eder.\n",
    "    costPerLtr (float): 1 Litre boyanın maliyetini ifade eder.\n",
    "    \"\"\"\n",
    "    import math \n",
    "    duvar_metrekare = sqftWalls \n",
    "    tavan_metrekare = sqftCeiling \n",
    "    toplam_metrekare = tavan_metrekare + duvar_metrekare\n",
    "    gereken_litre_boya= toplam_metrekare/sqftPerLtr\n",
    "    gereken_litre_boyar = math.ceil(gereken_litre_boya)\n",
    "    totalCost = (gereken_litre_boyar * costPerLtr)\n",
    "    return totalCost\n"
   ]
  },
  {
   "cell_type": "code",
   "execution_count": 11,
   "metadata": {},
   "outputs": [
    {
     "name": "stdout",
     "output_type": "stream",
     "text": [
      "100.0\n"
     ]
    }
   ],
   "source": [
    "ucret= getCost(100, 100, 10, 5.0)\n",
    "print(ucret)"
   ]
  },
  {
   "cell_type": "markdown",
   "metadata": {},
   "source": [
    "### Soru 5\n",
    "\n",
    "Şekillerin alanını hesaplayan bir fonksiyon yazmanız isteniyor.\n",
    "3 tane fonksiyon tanımlayın.\n",
    "- Dairenin alanını hesaplayan bir fonksiyon yazınız.\n",
    "- Karenin alanını hesaplayan bir fonksiyon yazınız.\n",
    "- Dikdörtgenin alanını hesaplayan bir fonksiyon yazınız.\n",
    "Sonra 3 fonksiyonu da çağırın. Fonksiyonu tanımlarken parametrelerin ve değişkenlerin tiplerini belirtin.Doc String(Hint) kullanın.\n"
   ]
  },
  {
   "cell_type": "code",
   "execution_count": 16,
   "metadata": {},
   "outputs": [],
   "source": [
    "def alan_daire(yaricap: float):\n",
    "    \"\"\"Hint:\n",
    "    Parametre:\n",
    "    yaricap (float): Dairenin yarıçapı\n",
    "    \"\"\"\n",
    "    pi = 3.14\n",
    "    alan = pi * yaricap ** 2\n",
    "    return alan\n",
    "def alan_kare(kenar: float):\n",
    "    \"\"\"Hint:\n",
    "    Parametre:\n",
    "    kenar (float): Karenin kenarı\n",
    "    \"\"\"\n",
    "    alan = kenar ** 2\n",
    "    return alan\n",
    "def alan_dikdortgen(uzun_kenar: float, kisa_kenar: float):\n",
    "    \"\"\"Hint:\n",
    "    Parametre:\n",
    "    uzunkenar (float): Dikdörtgenin uzun kenarı\n",
    "    kisa Kenar (float): Dikdörtgenin kısa kenarı\n",
    "    \"\"\"\n",
    "    alan = uzun_kenar * kisa_kenar\n",
    "    return alan"
   ]
  },
  {
   "cell_type": "code",
   "execution_count": 14,
   "metadata": {},
   "outputs": [
    {
     "name": "stdout",
     "output_type": "stream",
     "text": [
      "78.5\n"
     ]
    }
   ],
   "source": [
    "dairealani = alan_daire(5)\n",
    "print(dairealani)"
   ]
  },
  {
   "cell_type": "code",
   "execution_count": 17,
   "metadata": {},
   "outputs": [
    {
     "name": "stdout",
     "output_type": "stream",
     "text": [
      "25\n"
     ]
    }
   ],
   "source": [
    "karealani = alan_kare(5)\n",
    "print(karealani)"
   ]
  },
  {
   "cell_type": "code",
   "execution_count": 18,
   "metadata": {},
   "outputs": [
    {
     "name": "stdout",
     "output_type": "stream",
     "text": [
      "15\n"
     ]
    }
   ],
   "source": [
    "dikdörtgenalani = alan_dikdortgen(5,3)\n",
    "print(dikdörtgenalani)"
   ]
  },
  {
   "cell_type": "markdown",
   "metadata": {},
   "source": [
    "### Üçgen Alan Hesaplama --> Tip güvenliği ile yapalım"
   ]
  },
  {
   "cell_type": "code",
   "execution_count": 19,
   "metadata": {},
   "outputs": [
    {
     "name": "stdout",
     "output_type": "stream",
     "text": [
      "Collecting ensure\n",
      "  Downloading ensure-1.0.4-py3-none-any.whl.metadata (10 kB)\n",
      "Requirement already satisfied: six>=1.11.0 in /home/codespace/.local/lib/python3.12/site-packages (from ensure) (1.17.0)\n",
      "Downloading ensure-1.0.4-py3-none-any.whl (15 kB)\n",
      "Installing collected packages: ensure\n",
      "Successfully installed ensure-1.0.4\n",
      "\n",
      "\u001b[1m[\u001b[0m\u001b[34;49mnotice\u001b[0m\u001b[1;39;49m]\u001b[0m\u001b[39;49m A new release of pip is available: \u001b[0m\u001b[31;49m24.3.1\u001b[0m\u001b[39;49m -> \u001b[0m\u001b[32;49m25.0\u001b[0m\n",
      "\u001b[1m[\u001b[0m\u001b[34;49mnotice\u001b[0m\u001b[1;39;49m]\u001b[0m\u001b[39;49m To update, run: \u001b[0m\u001b[32;49mpython3 -m pip install --upgrade pip\u001b[0m\n"
     ]
    }
   ],
   "source": [
    "!pip install ensure"
   ]
  },
  {
   "cell_type": "code",
   "execution_count": 20,
   "metadata": {},
   "outputs": [],
   "source": [
    "from ensure import ensure_annotations\n",
    "@ensure_annotations\n",
    "def ucgen_alan_hesaplama(taban:float, yukseklik: float) -> float:\n",
    "    ucgen_alan:float = (taban*yukseklik) / 2\n",
    "    return ucgen_alan"
   ]
  },
  {
   "cell_type": "code",
   "execution_count": 23,
   "metadata": {},
   "outputs": [
    {
     "name": "stdout",
     "output_type": "stream",
     "text": [
      "7.5\n"
     ]
    }
   ],
   "source": [
    "alan= ucgen_alan_hesaplama(5.0, 3.0)\n",
    "print(alan)"
   ]
  },
  {
   "cell_type": "markdown",
   "metadata": {},
   "source": [
    "### Soru 6\n",
    "\n",
    "Diyelim ki bir restoran sahibisiniz ve menüde yemekleriniz mevcut.2025 yılı için menüdeki yemeklerinize zam yapmayı düşünüyorsunuz. Devlet regülüzasyonuna göre tek tip zam yapma zorunluluğunuz var. Zam yapma oranınız %30 olsun. Asgari ücret düzeyinde zam yapabilirsiniz. Zam yapacağınız yemekler lüks tüketim yemekleri olmak zorunda ve bu aylık olarak değişiyor.\n",
    "\n",
    "- Ocak ayı zam senaryosu -> Bonfile 250 TL'den %30 zam yapılacak. Antrikota 210 TL'den %30 zam yapılacak.\n",
    "\n",
    "- Şubat ayı zam senaryosu -> Ahtapota 460 TL'den %30 zam yapılacak. Karidese 570 TL'den %30 zam yapılacak."
   ]
  },
  {
   "cell_type": "code",
   "execution_count": 42,
   "metadata": {},
   "outputs": [],
   "source": [
    "from ensure import ensure_annotations\n",
    "@ensure_annotations\n",
    "def zam_yap(ay: str) -> list:\n",
    "    \n",
    "    \n",
    "    \n",
    "    ahtapot_mevcut_fiyat= 460\n",
    "    karides_mevcut_fiyat = 570\n",
    "    bonfile_mevcut_fiyat = 250\n",
    "    antrikot_mevcut_fiyat = 210\n",
    "    \n",
    "    list1=[f\"Mevcut Ahtapot Fiyatı{ahtapot_mevcut_fiyat}:,Mevcut Karides Fiyatı:{karides_mevcut_fiyat},Mevcut Bonfile Fiyatı:{bonfile_mevcut_fiyat},Mevcut Antrikot Fiyatı:{antrikot_mevcut_fiyat}\"]\n",
    "    \n",
    "    \"\"\"\n",
    "    Hint:\n",
    "    Aya göre zamlı fiyat listesi oluşturan fonksiyon.\n",
    "\n",
    "    Parametreler:\n",
    "    ay (str): Zamlı fiyatlar için ay adı\n",
    "    \"\"\"\n",
    "    ahtapot_mevcut_fiyat= 460\n",
    "    karides_mevcut_fiyat = 570\n",
    "    bonfile_mevcut_fiyat = 250\n",
    "    antrikot_mevcut_fiyat = 210\n",
    "    if ay == \"Ocak\":\n",
    "        zamli_antrikot= (antrikot_mevcut_fiyat * 1.30)\n",
    "        zamli_bonfile= (bonfile_mevcut_fiyat * 1.30)\n",
    "        list2=[f\"Mevcut Ahtapot Fiyatı: {ahtapot_mevcut_fiyat},Mevcut Karides Fiyatı: {karides_mevcut_fiyat},Mevcut Bonfile Fiyatı: {zamli_bonfile},Mevcut Antrikot Fiyatı: {zamli_antrikot}\"]\n",
    "        return list2\n",
    "    \n",
    "        \n",
    "    elif ay == \"Şubat\":\n",
    "        zamli_antrikot= (antrikot_mevcut_fiyat * 1.30)\n",
    "        zamli_bonfile= (bonfile_mevcut_fiyat * 1.30)\n",
    "        zamli_ahtapot= (ahtapot_mevcut_fiyat * 0.30) + ahtapot_mevcut_fiyat\n",
    "        zamli_karides= (karides_mevcut_fiyat * 0.30) + karides_mevcut_fiyat\n",
    "        list3 =[f\"Mevcut Ahtapot Fiyatı: {zamli_ahtapot},Mevcut Karides Fiyatı: {zamli_karides},Mevcut Bonfile Fiyatı: {zamli_bonfile},Mevcut Antrikot Fiyatı: {zamli_antrikot}\"]\n",
    "        return list3"
   ]
  },
  {
   "cell_type": "code",
   "execution_count": 43,
   "metadata": {},
   "outputs": [
    {
     "name": "stdout",
     "output_type": "stream",
     "text": [
      "['Mevcut Ahtapot Fiyatı: 460,Mevcut Karides Fiyatı: 570,Mevcut Bonfile Fiyatı: 325.0,Mevcut Antrikot Fiyatı: 273.0']\n"
     ]
    }
   ],
   "source": [
    "ilk_ay =zam_yap(\"Ocak\")\n",
    "print(ilk_ay)"
   ]
  },
  {
   "cell_type": "code",
   "execution_count": 44,
   "metadata": {},
   "outputs": [
    {
     "name": "stdout",
     "output_type": "stream",
     "text": [
      "['Mevcut Ahtapot Fiyatı: 598.0,Mevcut Karides Fiyatı: 741.0,Mevcut Bonfile Fiyatı: 325.0,Mevcut Antrikot Fiyatı: 273.0']\n"
     ]
    }
   ],
   "source": [
    "ikinci_ay =zam_yap(\"Şubat\")\n",
    "print(ikinci_ay)"
   ]
  },
  {
   "cell_type": "code",
   "execution_count": 16,
   "metadata": {},
   "outputs": [],
   "source": [
    "from ensure import ensure_annotations\n",
    "def regülazsyon_zamı(*lüks_yemekler_fiyat:float,devlet_regulizasyon_zam_orani:float = 1.30)-> float:\n",
    "    \"\"\"\n",
    "    Doc_String:\n",
    "    Bu fonksiyon 2025 yılı devlet regülüzasyonuna göre Aylık olarak belirlenen lüks tüketim yemeklerine %30 zam yapmaktadır.\n",
    "\n",
    "    Parametreler:\n",
    "    lüks_yemekler_fiyat -> Ay içinde belirlenen lüks tüketim olan yemeklerin 202 fiyatıdır.\n",
    "\n",
    "    Return:\n",
    "    Devlet regülüzasyonuna göre 2025 zam yapılmış fiyatı döndürür.\n",
    "    \"\"\"\n",
    "    for lüks_yemek_fiyat in lüks_yemekler_fiyat:\n",
    "        zamli_lüks_yemek_fiyat:float = lüks_yemek_fiyat * devlet_regulizasyon_zam_orani\n",
    "\n",
    "    return zamli_lüks_yemek_fiyat\n"
   ]
  },
  {
   "cell_type": "code",
   "execution_count": 19,
   "metadata": {},
   "outputs": [
    {
     "name": "stdout",
     "output_type": "stream",
     "text": [
      "Ocak ayında devlet bonfileye 250 TL den 273.0 fiyatına yükselecek\n"
     ]
    }
   ],
   "source": [
    "ocak_ayi_tarifesi=regülazsyon_zamı(250,210)\n",
    "print(f\"Ocak ayında devlet bonfileye 250 TL den {ocak_ayi_tarifesi} fiyatına yükselecek\")"
   ]
  }
 ],
 "metadata": {
  "kernelspec": {
   "display_name": "Python 3",
   "language": "python",
   "name": "python3"
  },
  "language_info": {
   "codemirror_mode": {
    "name": "ipython",
    "version": 3
   },
   "file_extension": ".py",
   "mimetype": "text/x-python",
   "name": "python",
   "nbconvert_exporter": "python",
   "pygments_lexer": "ipython3",
   "version": "3.12.1"
  }
 },
 "nbformat": 4,
 "nbformat_minor": 2
}
