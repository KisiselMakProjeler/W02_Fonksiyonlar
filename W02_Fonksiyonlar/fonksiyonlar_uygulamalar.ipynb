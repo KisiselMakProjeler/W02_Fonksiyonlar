{
 "cells": [
  {
   "cell_type": "markdown",
   "metadata": {},
   "source": [
    "### Soru 1\n",
    "\n",
    "float tipinde verilen sayıyı aşağıdaki örnekteki gibi yuvarlayın. "
   ]
  },
  {
   "cell_type": "code",
   "execution_count": 1,
   "metadata": {},
   "outputs": [
    {
     "name": "stdout",
     "output_type": "stream",
     "text": [
      "3.14\n"
     ]
    }
   ],
   "source": [
    "pi = 3.14159\n",
    "yuvarlanmis_pi = round(pi, 2)\n",
    "print(yuvarlanmis_pi)"
   ]
  },
  {
   "cell_type": "code",
   "execution_count": 4,
   "metadata": {},
   "outputs": [],
   "source": [
    "def iki_ondalikli_sayi_yuvarlama(yuvarlanacak_sayi:float):\n",
    "    \"\"\"Hint:\n",
    "    Noktadan sonra 2 basamak yuvarlayan fonksiyondur.\n",
    "\n",
    "    Parametre:\n",
    "    Yuvarlanacak sayıyı giriniz.\n",
    "    \"\"\"\n",
    "    yuvarlanmis_sayi = round(yuvarlanacak_sayi, 2)\n",
    "    return yuvarlanmis_sayi"
   ]
  },
  {
   "cell_type": "code",
   "execution_count": 5,
   "metadata": {},
   "outputs": [
    {
     "name": "stdout",
     "output_type": "stream",
     "text": [
      "5.89\n"
     ]
    }
   ],
   "source": [
    "yeni_sayi=iki_ondalikli_sayi_yuvarlama(5.889846513)\n",
    "print(yeni_sayi)"
   ]
  },
  {
   "cell_type": "code",
   "execution_count": 6,
   "metadata": {},
   "outputs": [],
   "source": [
    "from os import makedirs\n",
    "makedirs(\"Klasör1\")"
   ]
  },
  {
   "cell_type": "code",
   "execution_count": 7,
   "metadata": {},
   "outputs": [],
   "source": [
    "def klasorler_olustur(klasorler:list):\n",
    "    for klasor in klasorler:\n",
    "        makedirs(klasor)\n"
   ]
  },
  {
   "cell_type": "code",
   "execution_count": 9,
   "metadata": {},
   "outputs": [],
   "source": [
    "klasorler_olustur([\"Klasor1\", \"Klasor2\",\"Klasor3\",\"Klasor4\",\"Klasor5\",\"Klasor6\"])"
   ]
  },
  {
   "cell_type": "markdown",
   "metadata": {},
   "source": [
    "### Soru 2\n",
    "\n",
    "3 tane çocuk cadılar bayramında toplanılan şekeri kendi arasında paylaşıyor"
   ]
  },
  {
   "cell_type": "code",
   "execution_count": 13,
   "metadata": {},
   "outputs": [],
   "source": [
    "def kalan_seker(toplam_seker: int, cocuk_sayisi: int):\n",
    "    \"\"\"Hint:\n",
    "    Toplam şekerin kalan kısmının bulan fonksiyon.\n",
    "\n",
    "    Parametreler:\n",
    "    Toplam sekeri (integer): Toplam şeker sayısı\n",
    "    Cocuk sayısı (integer): Çocuk sayısı\n",
    "    \"\"\"\n",
    "    kalan_seker = toplam_seker % cocuk_sayisi\n",
    "    return kalan_seker"
   ]
  },
  {
   "cell_type": "code",
   "execution_count": 14,
   "metadata": {},
   "outputs": [
    {
     "name": "stdout",
     "output_type": "stream",
     "text": [
      "2\n"
     ]
    }
   ],
   "source": [
    "kalan_seker_sonuc = kalan_seker(17, 3)\n",
    "print(kalan_seker_sonuc)"
   ]
  },
  {
   "cell_type": "markdown",
   "metadata": {},
   "source": [
    "### Soru 3"
   ]
  },
  {
   "cell_type": "code",
   "execution_count": 15,
   "metadata": {},
   "outputs": [],
   "source": [
    "def evin_fiyatini_belirleme(yatak_odasi_sayisi:int, banyo_sayisi:int, bodrum_varmi:bool):\n",
    "    \"\"\"Hint:\n",
    "    Ev fiyatını belirleyen fonksiyon.\n",
    "\n",
    "    Parametreler:\n",
    "    Yatak odası sayısı (integer):\n",
    "    Banyo sayısı (integer):\n",
    "    Bodrum var mı (bool): Evde bodrum varsa True, yoksa False\"\"\"\n",
    "\n",
    "    normal_fiyat = 80000.0\n",
    "    banyo_fiyati = 10000.0\n",
    "    yatak_odasi_fiyati = 30000.0\n",
    "    bodrum_fiyati = 40000.0\n",
    "    if bodrum_varmi:\n",
    "        bodrum = 1\n",
    "    else:\n",
    "        bodrum = 0\n",
    "\n",
    "    fiyat = yatak_odasi_sayisi * yatak_odasi_fiyati + banyo_sayisi * banyo_fiyati+bodrum * bodrum_fiyati+80000\n",
    "\n",
    "    return fiyat"
   ]
  },
  {
   "cell_type": "code",
   "execution_count": 16,
   "metadata": {},
   "outputs": [
    {
     "name": "stdout",
     "output_type": "stream",
     "text": [
      "120000.0\n"
     ]
    }
   ],
   "source": [
    "evin_fiyati = evin_fiyatini_belirleme(1,1,False)\n",
    "print(evin_fiyati)"
   ]
  },
  {
   "cell_type": "code",
   "execution_count": null,
   "metadata": {},
   "outputs": [],
   "source": []
  }
 ],
 "metadata": {
  "kernelspec": {
   "display_name": "Python 3",
   "language": "python",
   "name": "python3"
  },
  "language_info": {
   "codemirror_mode": {
    "name": "ipython",
    "version": 3
   },
   "file_extension": ".py",
   "mimetype": "text/x-python",
   "name": "python",
   "nbconvert_exporter": "python",
   "pygments_lexer": "ipython3",
   "version": "3.12.1"
  }
 },
 "nbformat": 4,
 "nbformat_minor": 2
}
